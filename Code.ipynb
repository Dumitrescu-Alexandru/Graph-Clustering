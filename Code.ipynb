{
 "cells": [
  {
   "cell_type": "markdown",
   "metadata": {},
   "source": [
    "In case any of these libraries are missing, run the code below."
   ]
  },
  {
   "cell_type": "code",
   "execution_count": null,
   "metadata": {},
   "outputs": [],
   "source": [
    "!pip install ipython-autotime\n",
    "!pip install tqdm\n",
    "!pip install multiprocess\n",
    "!pip install numpy\n",
    "!pip install networkx\n",
    "!pip install scikit-learn\n",
    "!pip install matplotlib\n",
    "!pip install scipy"
   ]
  },
  {
   "cell_type": "code",
   "execution_count": 1,
   "metadata": {},
   "outputs": [],
   "source": [
    "import autotime\n",
    "from tqdm import tqdm_notebook\n",
    "from tqdm.auto import tqdm\n",
    "\n",
    "import numpy as np\n",
    "import networkx as nx\n",
    "import csv\n",
    "from collections import Counter \n",
    "from sklearn.cluster import KMeans, AgglomerativeClustering\n",
    "import random\n",
    "import scipy\n",
    "import matplotlib.pyplot as plt\n",
    "from sklearn.metrics import pairwise_distances_argmin, pairwise_distances\n",
    "from sklearn.metrics.pairwise import euclidean_distances\n",
    "import heapq\n",
    "from multiprocess import Pool"
   ]
  },
  {
   "cell_type": "code",
   "execution_count": 2,
   "metadata": {},
   "outputs": [],
   "source": [
    "datasets = ['Oregon-1.txt', 'soc-Epinions1.txt', 'web-NotreDame.txt', 'roadNet-CA.txt']\n",
    "part1_datasets = ['ca-GrQc.txt', 'ca-HepTh.txt', 'ca-HepPh.txt', 'ca-CondMat.txt', 'ca-AstroPh.txt']\n",
    "all_datasets = part1_datasets + datasets"
   ]
  },
  {
   "cell_type": "markdown",
   "metadata": {},
   "source": [
    "### Helper Functions"
   ]
  },
  {
   "cell_type": "code",
   "execution_count": 3,
   "metadata": {},
   "outputs": [],
   "source": [
    "def read_graph_data(graph_file_name, subsample=None, custom_k=None):\n",
    "    G_id = None\n",
    "    edges = []\n",
    "    with open('data/'+graph_file_name) as G_file:\n",
    "        G_data_reader = csv.reader(G_file, delimiter=' ')\n",
    "        header = next(G_data_reader)\n",
    "        G_id = header[1]\n",
    "        if custom_k:\n",
    "            k = custom_k\n",
    "        else:\n",
    "            k = int(header[4])\n",
    "        for row in G_data_reader:\n",
    "            if subsample is None or random.random() <= subsample:\n",
    "                edges.append((int(row[0]), int(row[1])))\n",
    "    return G_id, edges, k"
   ]
  },
  {
   "cell_type": "code",
   "execution_count": 4,
   "metadata": {},
   "outputs": [],
   "source": [
    "def get_networkx_graph(G_id, edges):\n",
    "    G = nx.Graph(name=G_id)\n",
    "    G.add_edges_from(edges)\n",
    "    return G"
   ]
  },
  {
   "cell_type": "code",
   "execution_count": 5,
   "metadata": {},
   "outputs": [],
   "source": [
    "def transform_clusters_to_dict(clusters):\n",
    "    clusters_dict = {}\n",
    "    for cid, cluster in enumerate(clusters):\n",
    "        for node in cluster:\n",
    "            clusters_dict[node] = cid\n",
    "    return clusters_dict"
   ]
  },
  {
   "cell_type": "code",
   "execution_count": 6,
   "metadata": {},
   "outputs": [],
   "source": [
    "def get_clusters_as_dict(G, clusters):\n",
    "    clusters_dict = {}\n",
    "    for i, u in enumerate(G.nodes()):\n",
    "        clusters_dict[u] = clusters[i]\n",
    "    return clusters_dict"
   ]
  },
  {
   "cell_type": "code",
   "execution_count": 7,
   "metadata": {},
   "outputs": [],
   "source": [
    "def get_degrees(G):\n",
    "    A = nx.adjacency_matrix(G)\n",
    "    return A.sum(axis=1)"
   ]
  },
  {
   "cell_type": "code",
   "execution_count": 8,
   "metadata": {},
   "outputs": [],
   "source": [
    "def chunks(l, n):\n",
    "    \"\"\"Yield successive n-sized chunks from l.\"\"\"\n",
    "    for i in range(0, len(l), n):\n",
    "        yield l[i:i + n]"
   ]
  },
  {
   "cell_type": "code",
   "execution_count": 9,
   "metadata": {},
   "outputs": [],
   "source": [
    "def write_results(G_id, G, cluster, k):\n",
    "    first_row = \"# \" + str(G_id)+ \" \" + str(G.number_of_nodes())+ \" \" + \\\n",
    "        str(G.number_of_edges()) +  \" \" + str(k) + \"\\n\"\n",
    "    output = open(\"results/\"+str(G_id)+\".output\",\"w+\")\n",
    "    output.write(first_row)\n",
    "    for key, val in cluster.items():\n",
    "        row = str(key) + \" \" + str(val) + \"\\n\"\n",
    "        output.write(row)\n",
    "    output.close()"
   ]
  },
  {
   "cell_type": "code",
   "execution_count": 10,
   "metadata": {},
   "outputs": [],
   "source": [
    "def get_degree(G):\n",
    "    A = (nx.adjacency_matrix(G,nodelist=range(0,G.number_of_nodes())))\n",
    "    D = A.sum(axis=1)\n",
    "    D = np.array(D.reshape((len(D),)))\n",
    "    D = D[0]\n",
    "    return scipy.sparse.diags(D)"
   ]
  },
  {
   "cell_type": "markdown",
   "metadata": {},
   "source": [
    "### Objective function / Metric"
   ]
  },
  {
   "cell_type": "code",
   "execution_count": 11,
   "metadata": {},
   "outputs": [],
   "source": [
    "def objective_function(G, clusters_dict):   \n",
    "    min_size = min(Counter(clusters_dict.values()).values())\n",
    "    E_cuts = 0\n",
    "    for u, v in G.edges:\n",
    "        if clusters_dict[u] != clusters_dict[v]:\n",
    "            E_cuts += 1\n",
    "    return E_cuts / min_size, E_cuts, min_size"
   ]
  },
  {
   "cell_type": "markdown",
   "metadata": {},
   "source": [
    "### Balanced K-Means"
   ]
  },
  {
   "cell_type": "code",
   "execution_count": 12,
   "metadata": {},
   "outputs": [],
   "source": [
    "def kmeans_balanced(X, k):\n",
    "    # Randomly choose clusters\n",
    "    rng = np.random.RandomState(42)\n",
    "    i = rng.permutation(X.shape[0])[:k]\n",
    "    centers = X[i]\n",
    "    distances = None\n",
    "    threshold = int(X.shape[0]/k) + 20\n",
    "    occupied = set()\n",
    "    labels = np.empty((X.shape[0],))\n",
    "    loops = 0\n",
    "    while True and loops < 50:\n",
    "        loops += 1\n",
    "        # Assign labels based on closest center\n",
    "        for i in range(k):\n",
    "            dist = np.sqrt(np.sum(np.square(X - centers[i]), axis=1))\n",
    "            if distances is None:\n",
    "                distances = dist\n",
    "            else:\n",
    "                distances = np.vstack((distances, dist))\n",
    "\n",
    "        for i, dist_k in enumerate(distances):\n",
    "            dist_k_s = set(np.argsort(dist_k).flat)\n",
    "            dist_k_s = list(dist_k_s - occupied)[:threshold]  # for me it doesn't break is `threshold` out of bounds\n",
    "            labels[dist_k_s] = i\n",
    "            occupied.update(dist_k_s)\n",
    "        occupied = set()\n",
    "        distances = None\n",
    "        # Find new centers from means of points\n",
    "        new_centers = np.array([X[labels == i].mean(0)\n",
    "                                for i in range(k)])\n",
    "        \n",
    "        # Check for convergence\n",
    "        if np.all(centers == new_centers):\n",
    "            break\n",
    "        centers = new_centers\n",
    "    print('KMeans loops:', loops)\n",
    "    return labels.astype(int)"
   ]
  },
  {
   "cell_type": "code",
   "execution_count": 13,
   "metadata": {},
   "outputs": [],
   "source": [
    "def kmeans_unbalanced(U,k,G):\n",
    "    kmeans = KMeans(k)\n",
    "    labels = kmeans.fit_predict(U)\n",
    "    clust_dict = {n:c for n,c in zip(range(0,G.number_of_nodes()),labels) }\n",
    "    return clust_dict"
   ]
  },
  {
   "cell_type": "markdown",
   "metadata": {},
   "source": [
    "### Balanced Spectral Clustering"
   ]
  },
  {
   "cell_type": "code",
   "execution_count": 14,
   "metadata": {},
   "outputs": [],
   "source": [
    "def spectral_clustering_balanced(G, k, laplacian_type='normalized'):\n",
    "    if laplacian_type == 'normalized':\n",
    "        A = (nx.adjacency_matrix(G,nodelist=range(0,G.number_of_nodes())))\n",
    "        D = A.sum(axis=1)\n",
    "        D = np.array(D.reshape((len(D),)))\n",
    "        D = D[0]\n",
    "        D = scipy.sparse.diags(np.power(D,-0.5))\n",
    "\n",
    "        L = scipy.sparse.identity(A.shape[0]) - D @ A @ D # normalized laplacian\n",
    "        # fast eigendecomposition that returns the k smallest eigenpairs\n",
    "        _, vec = scipy.sparse.linalg.eigs(scipy.sparse.csr_matrix(L), k=k, which='SR')\n",
    "        U = vec.real # take the real part\n",
    "        # normalize U rows\n",
    "        U = (U.T / np.sqrt(np.sum(np.square(U), axis=1)))\n",
    "        cluster = kmeans_unbalanced(U.T, k, G)\n",
    "    elif laplacian_type == 'unnormalized':\n",
    "        A = (nx.adjacency_matrix(G,nodelist=range(0,G.number_of_nodes())))\n",
    "        D = A.sum(axis=1)\n",
    "        D = np.array(D.reshape((len(D),)))\n",
    "        D = D[0]\n",
    "        D = scipy.sparse.diags(D)\n",
    "        L = D - A\n",
    "        _, vec =  scipy.sparse.linalg.eigs(scipy.sparse.csr_matrix(L), k=k, which='SR')\n",
    "        U = vec.real\n",
    "        cluster = kmeans_unbalanced(U,k,G)\n",
    "    elif laplacian_type == 'shi_malik':\n",
    "        Us = []\n",
    "        clusterings = []\n",
    "        A = (nx.adjacency_matrix(G,nodelist=range(0,G.number_of_nodes())))\n",
    "        D = A.sum(axis=1)\n",
    "        D = np.array(D.reshape((len(D),)))\n",
    "        D = D[0]\n",
    "        D = scipy.sparse.diags(D)\n",
    "        L = D - A\n",
    "        _, vec =  scipy.sparse.linalg.eigs(A=scipy.sparse.csc_matrix(L),M=get_degree(G), k=k, which='SR')\n",
    "        U = vec.real\n",
    "        cluster = kmeans_unbalanced(U,k,G)\n",
    "    return cluster"
   ]
  },
  {
   "cell_type": "code",
   "execution_count": 15,
   "metadata": {},
   "outputs": [],
   "source": [
    "def edge_betweenness_centrality_subset_parallel(G, sources, targets, processes=None):\n",
    "    def _betmap(args):\n",
    "        return nx.edge_betweenness_centrality_subset(*args)\n",
    "    \"\"\"Parallel betweenness centrality  function\"\"\"\n",
    "    p = Pool(processes=processes)\n",
    "    node_divisor = len(p._pool)\n",
    "    src_node_chunks = list(chunks(sources, max(1, int(len(sources) / node_divisor))))\n",
    "    trg_node_chunks = list(chunks(targets, max(1, int(len(targets) / node_divisor))))\n",
    "    num_chunks = len(src_node_chunks)\n",
    "    bt_sc = p.map(_betmap,\n",
    "                  zip([G] * num_chunks,\n",
    "                      src_node_chunks * num_chunks,\n",
    "                      trg_node_chunks * num_chunks))\n",
    "\n",
    "    # Reduce the partial solutions\n",
    "    bt_c = bt_sc[0]\n",
    "    for bt in bt_sc[1:]:\n",
    "        for n in bt:\n",
    "            bt_c[n] += bt[n]\n",
    "    return bt_c"
   ]
  },
  {
   "cell_type": "code",
   "execution_count": 16,
   "metadata": {},
   "outputs": [],
   "source": [
    "def bridge_cut_clustering(G, k=2, max_iter=None, betweenness_heuristic=False, parallel=False):\n",
    "    def __bridge_cut_clustering(Gs, k=k, max_iter=max_iter):\n",
    "        # check if recursion has to end\n",
    "        if k == len(Gs):\n",
    "            return Gs  \n",
    "        # check if connected components exist already\n",
    "        if len(Gs) == 1:\n",
    "            G = Gs[0]\n",
    "            if nx.number_connected_components(G) > 1:\n",
    "                print('Found some components ;)')\n",
    "                Gs = list(nx.connected_component_subgraphs(G))\n",
    "                return __bridge_cut_clustering(Gs, k=k, max_iter=max_iter)\n",
    "            # else do what you have to do *sigh*  \n",
    "        # G to split next, the biggest one with good bridges\n",
    "        bridges = []\n",
    "        removed = []\n",
    "        while Gs:\n",
    "            if len(Gs) > 1:\n",
    "                G = Gs[np.argmax([nx.number_of_nodes(g) for g in Gs])]\n",
    "            elif len(Gs) == 1:\n",
    "                G = Gs[0]\n",
    "            else:\n",
    "                break\n",
    "            bridges_ = list(nx.bridges(G))\n",
    "            if bridges_ is None or bridges_ == []:\n",
    "                Gs.remove(G)\n",
    "                removed.append(G)\n",
    "                continue\n",
    "            for bridge in bridges_:\n",
    "                u, v = bridge\n",
    "                if G.degree(u) > 1 and G.degree(v) > 1:\n",
    "                    bridges.append(bridge)\n",
    "                    \n",
    "            if bridges == []:\n",
    "                Gs.remove(G)\n",
    "                removed.append(G)\n",
    "            else:\n",
    "                break\n",
    " \n",
    "        if not Gs:  # no graph has bridges\n",
    "            print('No graph has useful bridges :(')\n",
    "            return None\n",
    "        Gs.extend(removed)\n",
    "        Gs.remove(G) # we don't need it - it will be cut\n",
    "        \n",
    "        # Betweenness heuristic\n",
    "        ctrl_bridges = set()\n",
    "        if betweenness_heuristic and len(Gs) == 0:\n",
    "            src_nodes_subset = np.random.choice(list(G.nodes()), 3000)\n",
    "            trg_nodes_subset = np.random.choice(list(G.nodes()), 3000)\n",
    "            btn_centrality = edge_betweenness_centrality_subset_parallel(G, src_nodes_subset, trg_nodes_subset)\n",
    "            bridges_centrality = {x: btn_centrality[x] for x in list(nx.bridges(G)) if x in btn_centrality}\n",
    "            ctrl_bridges = set(heapq.nlargest(max(50, k), bridges_centrality, key=bridges_centrality.get))\n",
    "        if betweenness_heuristic:\n",
    "            bridges = list(ctrl_bridges.intersection(set(bridges)))\n",
    " \n",
    "        ### actual procedure ###\n",
    "        ### parallelization\n",
    "        def __parallel_bridge(args):\n",
    "            G, bridges, max_iter = args\n",
    "            best_size = -1\n",
    "            best_clustering = None\n",
    "            best_bridge = None\n",
    "            it = 0\n",
    "            for bridge in tqdm(bridges):\n",
    "                u, v = bridge\n",
    "                G.remove_edge(u, v)\n",
    "                clusters = list(nx.connected_components(G))\n",
    "                min_clusters_size = min([len(cluster) for cluster in clusters])\n",
    "                if best_size < min_clusters_size:\n",
    "                    best_size = min_clusters_size\n",
    "                    best_clustering = clusters\n",
    "                    best_bridge = bridge\n",
    "                it += 1\n",
    "                G.add_edge(*bridge)\n",
    "                if max_iter is not None and it > max_iter:\n",
    "                    break\n",
    "            return best_clustering, best_bridge\n",
    "        ### end\n",
    "        ##############\n",
    "        if parallel:\n",
    "            p = Pool(processes=None)\n",
    "            bridge_divisor = len(p._pool)\n",
    "            bridge_chunks = list(chunks(bridges, min(1, int(len(bridges) / bridge_divisor))))\n",
    "            num_chunks = len(bridge_chunks)\n",
    "            args = list(zip([G] * num_chunks, bridge_chunks, [max_iter] * num_chunks))\n",
    "            par_clusters = list(tqdm(p.imap(__parallel_bridge, args)))\n",
    "\n",
    "            best_size = -1\n",
    "            best_br = None\n",
    "            for par_cl, br in par_clusters:\n",
    "                min_clusters_size = min([len(cluster) for cluster in par_cl])\n",
    "                if best_size < min_clusters_size:\n",
    "                    best_size = min_clusters_size\n",
    "                    best_br = br\n",
    "        ##############\n",
    "        if not parallel:\n",
    "            _, best_br = __parallel_bridge((G, bridges, max_iter))\n",
    "        best_subgraphs = []\n",
    "        G.remove_edge(*best_br)\n",
    "        best_subgraphs = list(nx.connected_component_subgraphs(G))\n",
    "        Gs.extend(best_subgraphs)    \n",
    "        G.add_edge(*best_br)\n",
    "        return __bridge_cut_clustering(Gs, k=k, max_iter=max_iter)\n",
    "        # end of procedure\n",
    "       \n",
    "    best_clustering = __bridge_cut_clustering([G], k, max_iter)\n",
    "    if best_clustering is None:\n",
    "        return None\n",
    "    clustering = {}\n",
    "    for label, cluster in enumerate(best_clustering):\n",
    "        for node in cluster.nodes():\n",
    "            clustering[node] = label\n",
    "       \n",
    "    return clustering"
   ]
  },
  {
   "cell_type": "markdown",
   "metadata": {},
   "source": [
    "## Results Plotting functions"
   ]
  },
  {
   "cell_type": "code",
   "execution_count": 17,
   "metadata": {},
   "outputs": [],
   "source": [
    "def plot_results(k_vals,graphs,shi_malik,normalized,unnormalized,br_cuts,required_points=None):\n",
    "    for ind, k in enumerate(k_vals):\n",
    "        un_ = unnormalized[ind]\n",
    "        norm_ = normalized[ind]\n",
    "        shi_ = shi_malik[ind]\n",
    "        br_ = br_cuts[ind]\n",
    "        k = np.array(k)\n",
    "        from pylab import rcParams\n",
    "        rcParams['figure.figsize'] = 10, 8\n",
    "        plt.xlabel(\"Number of clusters\")\n",
    "        plt.ylabel(\"Objective function value\")\n",
    "        plt.title(graphs[ind].split(\".\")[0])\n",
    "        \n",
    "        plt.plot(k,shi_,label=\"Shi Malik\",c='red')\n",
    "        plt.plot(k,un_,label=\"Spectral clustering( unnormalized Laplacian)\",c='blue')\n",
    "        plt.plot(k,norm_,label=\"Spectral clustering (normalized Laplacian)\",c='green')\n",
    "        plt.plot(k,br_,label=\"Bridge cut\",c='orange')\n",
    "        if required_points is not None:\n",
    "            required_point = np.argwhere(k == required_points[ind])\n",
    "            required_point = required_point[0,0]\n",
    "            plt.scatter(required_points[ind],shi_[required_point],label='Required point',c='black')\n",
    "            plt.scatter(required_points[ind],un_[required_point],c='black')\n",
    "            plt.scatter(required_points[ind],norm_[required_point],c='black')\n",
    "            plt.scatter(required_points[ind],br_[required_point],c='black')\n",
    "            print(\"Results on the required points for graph \" + graphs[ind])\n",
    "            print(\"Shi_malik: \" + str(shi_[required_point]))\n",
    "            print(\"unnnormalized \" + str(un_[required_point]))\n",
    "            print(\"normalized \" + str(norm_[required_point]))\n",
    "            print(\"Bridge cuts \" + str(br_[required_point]))\n",
    "        plt.legend()\n",
    "        plt.show()"
   ]
  },
  {
   "cell_type": "code",
   "execution_count": 18,
   "metadata": {},
   "outputs": [],
   "source": [
    "def clustering_analysis(clustering_vals=[[2,3,5,7]],graphs_required=['ca-GrQc.txt'],required_points=[2]):\n",
    "    shi_malik_results = []\n",
    "    unnormalized_results = []\n",
    "    normalized_results = []\n",
    "    cuts_clustering = []\n",
    "    \n",
    "    for ind, graph in enumerate(graphs_required):\n",
    "        temp_unnormalized_results = []\n",
    "        temp_normalized_results = []\n",
    "        temp_shi_malik_results = []\n",
    "        temp_cuts_clustering = []\n",
    "        \n",
    "        for k in clustering_vals[ind]:\n",
    "            \n",
    "            G_id, edges, k = read_graph_data(graph, subsample=None,custom_k=k)\n",
    "            G = get_networkx_graph(G_id, edges)\n",
    "            \n",
    "            cluster_temp = spectral_clustering_balanced(G, k,laplacian_type='unnormalized')\n",
    "            temp_unnormalized_results.append(objective_function(G,cluster_temp)[0])\n",
    "            \n",
    "            cluster_temp = spectral_clustering_balanced(G,k,laplacian_type='normalized')\n",
    "            temp_normalized_results.append(objective_function(G,cluster_temp)[0])\n",
    "            \n",
    "            cluster_temp = spectral_clustering_balanced(G, k, laplacian_type='shi_malik')\n",
    "            temp_shi_malik_results.append(objective_function(G,cluster_temp)[0])\n",
    "            \n",
    "            cluster_temp = bridge_cut_clustering(G, k)\n",
    "            temp_cuts_clustering.append(objective_function(G,cluster_temp)[0])\n",
    "            \n",
    "        shi_malik_results.append(temp_shi_malik_results)\n",
    "        unnormalized_results.append(temp_unnormalized_results)\n",
    "        normalized_results.append(temp_normalized_results)\n",
    "        cuts_clustering.append(temp_cuts_clustering)\n",
    "            \n",
    "    plot_results(clustering_vals,graphs_required,shi_malik_results,normalized_results,\n",
    "                                     unnormalized_results,cuts_clustering,required_points=required_points)"
   ]
  },
  {
   "cell_type": "markdown",
   "metadata": {},
   "source": [
    "# Demo 0\n",
    "Here you can run the code to see stats"
   ]
  },
  {
   "cell_type": "code",
   "execution_count": 19,
   "metadata": {},
   "outputs": [
    {
     "name": "stdout",
     "output_type": "stream",
     "text": [
      "Graph: ca-GrQc\n",
      "Number of nodes: 4158\n",
      "Number of edges: 13428\n",
      "\n",
      "Average Clustering Coefficient: 0.5568782161697907\n",
      "Number of Connected Components: 1\n",
      "Network density: 0.0015537345342493286\n",
      "-------------------------------------------------------\n",
      "\n",
      "Graph: ca-HepTh\n",
      "Number of nodes: 9877\n",
      "Number of edges: 25998\n",
      "\n",
      "Average Clustering Coefficient: 0.4714390529669335\n",
      "Number of Connected Components: 429\n",
      "Network density: 0.000533044909248889\n",
      "-------------------------------------------------------\n",
      "\n",
      "Graph: ca-HepPh\n",
      "Number of nodes: 12008\n",
      "Number of edges: 118521\n",
      "\n",
      "Average Clustering Coefficient: 0.6114825236824324\n",
      "Number of Connected Components: 278\n",
      "Network density: 0.0016440692740471677\n",
      "-------------------------------------------------------\n",
      "\n",
      "Graph: ca-CondMat\n",
      "Number of nodes: 23133\n",
      "Number of edges: 93497\n",
      "\n",
      "Average Clustering Coefficient: 0.6334130270820657\n",
      "Number of Connected Components: 567\n",
      "Network density: 0.0003494479766981958\n",
      "-------------------------------------------------------\n",
      "\n",
      "Graph: ca-AstroPh\n",
      "Number of nodes: 18772\n",
      "Number of edges: 198110\n",
      "\n",
      "Average Clustering Coefficient: 0.6305932411707945\n",
      "Number of Connected Components: 290\n",
      "Network density: 0.0011244455715955115\n",
      "-------------------------------------------------------\n",
      "\n",
      "Graph: Oregon-1\n",
      "Number of nodes: 10670\n",
      "Number of edges: 22002\n",
      "\n",
      "Average Clustering Coefficient: 0.29697239817509724\n",
      "Number of Connected Components: 1\n",
      "Network density: 0.00038654852592138865\n",
      "-------------------------------------------------------\n",
      "\n",
      "Graph: soc-Epinions1\n",
      "Number of nodes: 75879\n",
      "Number of edges: 405740\n",
      "\n",
      "Average Clustering Coefficient: 0.1377563733924548\n",
      "Number of Connected Components: 2\n",
      "Network density: 0.00014094197295205573\n",
      "-------------------------------------------------------\n",
      "\n",
      "Graph: web-NotreDame\n",
      "Number of nodes: 325729\n",
      "Number of edges: 1117563\n",
      "\n",
      "Average Clustering Coefficient: 0.23462432071970665\n",
      "Number of Connected Components: 1\n",
      "Network density: 2.1066408037288526e-05\n",
      "-------------------------------------------------------\n",
      "\n",
      "Graph: roadNet-CA\n",
      "Number of nodes: 1957027\n",
      "Number of edges: 2760388\n",
      "\n",
      "Average Clustering Coefficient: 0.04646835887932579\n",
      "Number of Connected Components: 1\n",
      "Network density: 1.4414736685174044e-06\n",
      "-------------------------------------------------------\n",
      "\n"
     ]
    }
   ],
   "source": [
    "for G_file in all_datasets:\n",
    "    custom_k = 1\n",
    "    if G_file in datasets:\n",
    "        custom_k = None\n",
    "    G_id, edges, k = read_graph_data(G_file, subsample=None, custom_k=custom_k)\n",
    "    G = get_networkx_graph(G_id, edges)\n",
    "    print(\"Graph: %s\\nNumber of nodes: %i\\nNumber of edges: %s\\n\" \n",
    "          % (G_id, G.number_of_nodes(), G.number_of_edges()))\n",
    "    print(\"Average Clustering Coefficient:\", nx.average_clustering(G))\n",
    "    print(\"Number of Connected Components:\", nx.number_connected_components(G))\n",
    "    print(\"Network density:\", nx.density(G))\n",
    "    print(\"-------------------------------------------------------\\n\")"
   ]
  },
  {
   "cell_type": "code",
   "execution_count": 20,
   "metadata": {},
   "outputs": [
    {
     "data": {
      "image/png": "[encoded data removed]",
      "text/plain": [
       "<Figure size 432x288 with 1 Axes>"
      ]
     },
     "metadata": {
      "needs_background": "light"
     },
     "output_type": "display_data"
    },
    {
     "data": {
      "image/png": "[encoded data removed]",
      "text/plain": [
       "<Figure size 432x288 with 1 Axes>"
      ]
     },
     "metadata": {
      "needs_background": "light"
     },
     "output_type": "display_data"
    },
    {
     "data": {
      "image/png": "[encoded data removed]",
      "text/plain": [
       "<Figure size 432x288 with 1 Axes>"
      ]
     },
     "metadata": {
      "needs_background": "light"
     },
     "output_type": "display_data"
    },
    {
     "data": {
      "image/png": "[encoded data removed]",
      "text/plain": [
       "<Figure size 432x288 with 1 Axes>"
      ]
     },
     "metadata": {
      "needs_background": "light"
     },
     "output_type": "display_data"
    },
    {
     "data": {
      "image/png": "[encoded data removed]",
      "text/plain": [
       "<Figure size 432x288 with 1 Axes>"
      ]
     },
     "metadata": {
      "needs_background": "light"
     },
     "output_type": "display_data"
    }
   ],
   "source": [
    "for G_file in part1_datasets:\n",
    "    custom_k = 1\n",
    "    if G_file in datasets:\n",
    "        custom_k = None\n",
    "    G_id, edges, k = read_graph_data(G_file, subsample=None, custom_k=custom_k)\n",
    "    plt.hist(get_degrees(G))\n",
    "    plt.yscale('log')\n",
    "    plt.title(G_id + ' log degree histogram')\n",
    "    plt.show()"
   ]
  },
  {
   "cell_type": "code",
   "execution_count": 21,
   "metadata": {
    "scrolled": false
   },
   "outputs": [
    {
     "data": {
      "image/png": "[encoded data removed]",
      "text/plain": [
       "<Figure size 432x288 with 1 Axes>"
      ]
     },
     "metadata": {
      "needs_background": "light"
     },
     "output_type": "display_data"
    },
    {
     "data": {
      "image/png": "[encoded data removed]",
      "text/plain": [
       "<Figure size 432x288 with 1 Axes>"
      ]
     },
     "metadata": {
      "needs_background": "light"
     },
     "output_type": "display_data"
    },
    {
     "data": {
      "image/png": "[encoded data removed]",
      "text/plain": [
       "<Figure size 432x288 with 1 Axes>"
      ]
     },
     "metadata": {
      "needs_background": "light"
     },
     "output_type": "display_data"
    },
    {
     "data": {
      "image/png": "[encoded data removed]",
      "text/plain": [
       "<Figure size 432x288 with 1 Axes>"
      ]
     },
     "metadata": {
      "needs_background": "light"
     },
     "output_type": "display_data"
    }
   ],
   "source": [
    "for G_file in datasets:\n",
    "    G_id, edges, k = read_graph_data(G_file, subsample=None)\n",
    "    G = get_networkx_graph(G_id, edges)\n",
    "    plt.hist(get_degrees(G))\n",
    "    plt.yscale('log')\n",
    "    plt.title(G_id + ' log degree histogram')\n",
    "    plt.show()"
   ]
  },
  {
   "cell_type": "markdown",
   "metadata": {},
   "source": [
    "## DEMO 1 \n",
    "## Run clustering functions and write an output file\n",
    "\n",
    "$\\textbf{NOTE}$ Please run the code below if a \"results\" folder is not present in the notebook path."
   ]
  },
  {
   "cell_type": "code",
   "execution_count": 22,
   "metadata": {},
   "outputs": [],
   "source": [
    "try:\n",
    "    import os\n",
    "    os.mkdir('results')\n",
    "except:\n",
    "    pass"
   ]
  },
  {
   "cell_type": "markdown",
   "metadata": {},
   "source": [
    "Running the run_save_res_spectral:\n",
    "\n",
    " - graphs: give as arguments, strings of file names that you want to write the results for\n",
    " - laplacian_type = $\"normalized\"$, $\"unnormalized\"$ or $\"shi\\_malik\"$\n",
    " \n",
    "Output: The function will compute all the output files in the format of the competition, and a summary of the clustering's quality will be printed.\n",
    "\n",
    "$\\textbf{NOTE}$ You need to put the files elsewhere, if you want some output files results saved, or else they will be overwritten by the next run!!"
   ]
  },
  {
   "cell_type": "code",
   "execution_count": 27,
   "metadata": {},
   "outputs": [],
   "source": [
    "def run_save_res_spectral(graphs=['ca-GrQc.txt','Oregon-1.txt'],laplacian_type='unnormalized', custom_ks=[None, None]):\n",
    "    for i, graph in enumerate(graphs):\n",
    "        if custom_ks[i]:\n",
    "            G_id, edges, k = read_graph_data(graph, custom_k=custom_ks[i])\n",
    "        else:\n",
    "            G_id, edges, k = read_graph_data(graph)\n",
    "        G = get_networkx_graph(G_id, edges)\n",
    "        cluster = spectral_clustering_balanced(G,k,laplacian_type=laplacian_type)\n",
    "        results = objective_function(G,cluster)\n",
    "        print(\"For cluster \" + graph + \" the objective function is: \" + str(results[0]) \n",
    "                          + \" with \" + str(results[1]) + \" number of cuts and \" + str(results[2]) + \n",
    "                          \" min dimension of a cluster\"  )\n",
    "        write_results(G_id,G,cluster,k)"
   ]
  },
  {
   "cell_type": "code",
   "execution_count": 28,
   "metadata": {},
   "outputs": [
    {
     "name": "stdout",
     "output_type": "stream",
     "text": [
      "For cluster ca-GrQc.txt the objective function is: 0.08333333333333333 with 1 number of cuts and 12 min dimension of a cluster\n",
      "For cluster Oregon-1.txt the objective function is: 15.5 with 93 number of cuts and 6 min dimension of a cluster\n"
     ]
    }
   ],
   "source": [
    "run_save_res_spectral(laplacian_type='unnormalized')"
   ]
  },
  {
   "cell_type": "code",
   "execution_count": 29,
   "metadata": {},
   "outputs": [],
   "source": [
    "def run_save_res_bridge(graphs=['ca-GrQc.txt'], custom_ks=[None]):\n",
    "    for i, graph in enumerate(graphs):\n",
    "        if custom_ks[i]:\n",
    "            G_id, edges, k = read_graph_data(graph, custom_k=custom_ks[i])\n",
    "        else:\n",
    "            G_id, edges, k = read_graph_data(graph)\n",
    "        G = get_networkx_graph(G_id, edges)\n",
    "        cluster = bridge_cut_clustering(G,k)\n",
    "        results = objective_function(G,cluster)\n",
    "        print(\"For cluster \" + graph + \" the objective function is: \" + str(results[0]) \n",
    "                          + \" with \" + str(results[1]) + \" number of cuts and \" + str(results[2]) + \n",
    "                          \" min dimension of a cluster\"  )\n",
    "        write_results(G_id,G,cluster,k)"
   ]
  },
  {
   "cell_type": "code",
   "execution_count": 30,
   "metadata": {},
   "outputs": [
    {
     "data": {
      "application/vnd.jupyter.widget-view+json": {
       "model_id": "26253c6e1d2f4b59a287840a60efa387",
       "version_major": 2,
       "version_minor": 0
      },
      "text/plain": [
       "HBox(children=(IntProgress(value=0, max=113), HTML(value='')))"
      ]
     },
     "metadata": {},
     "output_type": "display_data"
    },
    {
     "name": "stdout",
     "output_type": "stream",
     "text": [
      "\n",
      "For cluster ca-GrQc.txt the objective function is: 0.0625 with 1 number of cuts and 16 min dimension of a cluster\n"
     ]
    }
   ],
   "source": [
    "run_save_res_bridge()"
   ]
  },
  {
   "cell_type": "code",
   "execution_count": 31,
   "metadata": {},
   "outputs": [
    {
     "name": "stdout",
     "output_type": "stream",
     "text": [
      "For cluster ca-GrQc.txt the objective function is: 0.08333333333333333 with 1 number of cuts and 12 min dimension of a cluster\n",
      "For cluster ca-GrQc.txt the objective function is: 0.52 with 26 number of cuts and 50 min dimension of a cluster\n"
     ]
    },
    {
     "name": "stderr",
     "output_type": "stream",
     "text": [
      "/home/alex/anaconda3/lib/python3.7/site-packages/scipy/sparse/linalg/dsolve/linsolve.py:295: SparseEfficiencyWarning: splu requires CSC matrix format\n",
      "  warn('splu requires CSC matrix format', SparseEfficiencyWarning)\n"
     ]
    },
    {
     "name": "stdout",
     "output_type": "stream",
     "text": [
      "For cluster ca-GrQc.txt the objective function is: 0.075 with 3 number of cuts and 40 min dimension of a cluster\n"
     ]
    },
    {
     "data": {
      "application/vnd.jupyter.widget-view+json": {
       "model_id": "a49dd423855f45e496b6fecdd99cc6af",
       "version_major": 2,
       "version_minor": 0
      },
      "text/plain": [
       "HBox(children=(IntProgress(value=0, max=113), HTML(value='')))"
      ]
     },
     "metadata": {},
     "output_type": "display_data"
    },
    {
     "name": "stdout",
     "output_type": "stream",
     "text": [
      "\n",
      "For cluster ca-GrQc.txt the objective function is: 0.0625 with 1 number of cuts and 16 min dimension of a cluster\n"
     ]
    }
   ],
   "source": [
    "run_save_res_spectral(['ca-GrQc.txt'], laplacian_type='unnormalized', custom_ks=[2])\n",
    "run_save_res_spectral(['ca-GrQc.txt'], laplacian_type='normalized', custom_ks=[2])\n",
    "run_save_res_spectral(['ca-GrQc.txt'], laplacian_type='shi_malik', custom_ks=[2])\n",
    "run_save_res_bridge(['ca-GrQc.txt'], custom_ks=[2])"
   ]
  },
  {
   "cell_type": "markdown",
   "metadata": {},
   "source": [
    "## DEMO 2\n",
    "\n",
    "clustering_analysis:\n",
    " - clustering_vals: List of lists that has the number of clusters for which one wants to compute the objective function\n",
    " - graphs_required: the graphs on which the analysis is needed\n",
    " - required_points: Print and show on the graph the points needed (i.e., used to get the points required by the assignment)\n",
    " \n",
    "Finally, clustering_analysis runs \"plot_results\", the objective function as a function of the number of clusters. Useful function to see how consistent does a spectral algorithm return better/worse values. In our case, you should usually see better results on spectral clustering.\n",
    "\n",
    "$\\textbf{NOTE}$ If you add big numbers on clustering values and bigger graphs than the one shown, expect a very long time to compute (hours) <- since it's computing spectral clusterings with different Laplacian matrices for each k value required for each of the graphs."
   ]
  },
  {
   "cell_type": "code",
   "execution_count": 32,
   "metadata": {
    "scrolled": false
   },
   "outputs": [
    {
     "name": "stderr",
     "output_type": "stream",
     "text": [
      "/home/alex/anaconda3/lib/python3.7/site-packages/scipy/sparse/linalg/dsolve/linsolve.py:295: SparseEfficiencyWarning: splu requires CSC matrix format\n",
      "  warn('splu requires CSC matrix format', SparseEfficiencyWarning)\n"
     ]
    },
    {
     "data": {
      "application/vnd.jupyter.widget-view+json": {
       "model_id": "ec227e71c37c47cb986ed2a6a1ca96e3",
       "version_major": 2,
       "version_minor": 0
      },
      "text/plain": [
       "HBox(children=(IntProgress(value=0, max=113), HTML(value='')))"
      ]
     },
     "metadata": {},
     "output_type": "display_data"
    },
    {
     "name": "stdout",
     "output_type": "stream",
     "text": [
      "\n"
     ]
    },
    {
     "data": {
      "application/vnd.jupyter.widget-view+json": {
       "model_id": "94d6eee1760c48bd8574af0ff7445a70",
       "version_major": 2,
       "version_minor": 0
      },
      "text/plain": [
       "HBox(children=(IntProgress(value=0, max=113), HTML(value='')))"
      ]
     },
     "metadata": {},
     "output_type": "display_data"
    },
    {
     "name": "stdout",
     "output_type": "stream",
     "text": [
      "\n"
     ]
    },
    {
     "data": {
      "application/vnd.jupyter.widget-view+json": {
       "model_id": "64f2dec3f60943a8a2b12004c898d6ce",
       "version_major": 2,
       "version_minor": 0
      },
      "text/plain": [
       "HBox(children=(IntProgress(value=0, max=112), HTML(value='')))"
      ]
     },
     "metadata": {},
     "output_type": "display_data"
    },
    {
     "name": "stdout",
     "output_type": "stream",
     "text": [
      "\n"
     ]
    },
    {
     "data": {
      "application/vnd.jupyter.widget-view+json": {
       "model_id": "1dee46e7ac0345daa0cc279a2082f4ac",
       "version_major": 2,
       "version_minor": 0
      },
      "text/plain": [
       "HBox(children=(IntProgress(value=0, max=79), HTML(value='')))"
      ]
     },
     "metadata": {},
     "output_type": "display_data"
    },
    {
     "name": "stdout",
     "output_type": "stream",
     "text": [
      "\n"
     ]
    },
    {
     "data": {
      "application/vnd.jupyter.widget-view+json": {
       "model_id": "9107457c99d643779f1d919dfcc334c9",
       "version_major": 2,
       "version_minor": 0
      },
      "text/plain": [
       "HBox(children=(IntProgress(value=0, max=79), HTML(value='')))"
      ]
     },
     "metadata": {},
     "output_type": "display_data"
    },
    {
     "name": "stdout",
     "output_type": "stream",
     "text": [
      "\n"
     ]
    },
    {
     "data": {
      "application/vnd.jupyter.widget-view+json": {
       "model_id": "a3fc06296b0c4ec4945a0c3cec7935b1",
       "version_major": 2,
       "version_minor": 0
      },
      "text/plain": [
       "HBox(children=(IntProgress(value=0, max=78), HTML(value='')))"
      ]
     },
     "metadata": {},
     "output_type": "display_data"
    },
    {
     "name": "stdout",
     "output_type": "stream",
     "text": [
      "\n",
      "Results on the required points for graph ca-GrQc.txt\n",
      "Shi_malik: 0.075\n",
      "unnnormalized 0.08333333333333333\n",
      "normalized 0.52\n",
      "Bridge cuts 0.0625\n"
     ]
    },
    {
     "data": {
      "image/png": "[encoded data removed]",
      "text/plain": [
       "<Figure size 720x576 with 1 Axes>"
      ]
     },
     "metadata": {
      "needs_background": "light"
     },
     "output_type": "display_data"
    },
    {
     "name": "stdout",
     "output_type": "stream",
     "text": [
      "Results on the required points for graph Oregon-1.txt\n",
      "Shi_malik: 0.5506329113924051\n",
      "unnnormalized 6.3\n",
      "normalized 2.9255014326647566\n",
      "Bridge cuts 0.3333333333333333\n"
     ]
    },
    {
     "data": {
      "image/png": "[encoded data removed]",
      "text/plain": [
       "<Figure size 720x576 with 1 Axes>"
      ]
     },
     "metadata": {
      "needs_background": "light"
     },
     "output_type": "display_data"
    }
   ],
   "source": [
    "clustering_analysis(clustering_vals=[[2,3],[2,3]],\n",
    "                    graphs_required=['ca-GrQc.txt','Oregon-1.txt'],\n",
    "                    required_points=[2,3])"
   ]
  },
  {
   "cell_type": "code",
   "execution_count": null,
   "metadata": {},
   "outputs": [],
   "source": []
  },
  {
   "cell_type": "code",
   "execution_count": null,
   "metadata": {},
   "outputs": [],
   "source": []
  },
  {
   "cell_type": "code",
   "execution_count": null,
   "metadata": {},
   "outputs": [],
   "source": []
  }
 ],
 "metadata": {
  "kernelspec": {
   "display_name": "Python 3",
   "language": "python",
   "name": "python3"
  },
  "language_info": {
   "codemirror_mode": {
    "name": "ipython",
    "version": 3
   },
   "file_extension": ".py",
   "mimetype": "text/x-python",
   "name": "python",
   "nbconvert_exporter": "python",
   "pygments_lexer": "ipython3",
   "version": "3.7.0"
  }
 },
 "nbformat": 4,
 "nbformat_minor": 2
}
